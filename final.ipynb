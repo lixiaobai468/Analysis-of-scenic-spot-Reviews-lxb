{
 "cells": [
  {
   "cell_type": "markdown",
   "metadata": {},
   "source": [
    "<h1>数据整理</h1>"
   ]
  },
  {
   "cell_type": "code",
   "execution_count": 8,
   "metadata": {},
   "outputs": [],
   "source": [
    "import csv\n",
    "from collections import Counter\n",
    "import pandas as pd"
   ]
  },
  {
   "cell_type": "code",
   "execution_count": 2,
   "metadata": {},
   "outputs": [
    {
     "name": "stdout",
     "output_type": "stream",
     "text": [
      "[['1240', '文殊院', '30.675472', '104.072619'], ['1241', '武侯祠', '30.646143', '104.047992'], ['1242', '锦里', '30.64477', '104.049879'], ['5004', '杜甫草堂', '30.660076', '104.028553'], ['5267', '洛带古镇', '30.637138', '104.32565'], ['5354', '黄龙溪古镇', '30.31744', '103.969563'], ['5416', '人民公园', '30.65699', '104.057641'], ['5747', '西岭雪山', '30.615003', '103.173787'], ['5762', '四川科技馆', '30.659866', '104.065787'], ['5820', '欢乐谷', '30.720902', '104.034832'], ['7153', '九峰山', '31.375381', '103.883153'], ['7157', '平乐古镇', '30.343334', '103.332656'], ['87950', '宽窄巷子', '30.663868', '104.053308'], ['2494961', '青城山', '30.905374', '103.562887'], ['5433321', '安仁古镇', '30.510297', '103.619883'], ['5433363', '春熙路', '30.65555', '104.077795'], ['6737998', '赵公山', '30.974146', '103.518661'], ['8469443', '东郊记忆', '30.668693', '104.122881']]\n"
     ]
    }
   ],
   "source": [
    "with open(\"scene_.csv\",encoding=\"utf-8\") as f:\n",
    "    reader = csv.reader(f)\n",
    "    scener = list(reader)[1:]\n",
    "    print(scener)"
   ]
  },
  {
   "cell_type": "code",
   "execution_count": 3,
   "metadata": {},
   "outputs": [
    {
     "name": "stdout",
     "output_type": "stream",
     "text": [
      "{'1240': '文殊院', '1241': '武侯祠', '1242': '锦里', '5004': '杜甫草堂', '5267': '洛带古镇', '5354': '黄龙溪古镇', '5416': '人民公园', '5747': '西岭雪山', '5762': '四川科技馆', '5820': '欢乐谷', '7153': '九峰山', '7157': '平乐古镇', '87950': '宽窄巷子', '2494961': '青城山', '5433321': '安仁古镇', '5433363': '春熙路', '6737998': '赵公山', '8469443': '东郊记忆'}\n"
     ]
    }
   ],
   "source": [
    "def filter(item):\n",
    "    return item[:2]\n",
    "scene = list(map(filter,scener))\n",
    "scene=dict(scene)\n",
    "print(scene)"
   ]
  },
  {
   "cell_type": "code",
   "execution_count": 4,
   "metadata": {},
   "outputs": [
    {
     "name": "stdout",
     "output_type": "stream",
     "text": [
      "{'5747': 10, '5762': 16, '1240': 7, '5354': 17, '5433321': 9, '87950': 35, '5820': 13, '7157': 5, '5267': 16, '5433363': 3, '6737998': 5, '1242': 14, '5416': 5, '1241': 5, '7153': 3, '5004': 1, '8469443': 5, '2494961': 6}\n"
     ]
    }
   ],
   "source": [
    "def comment_filter(item):\n",
    "    return item[-1]\n",
    "with open(\"scene_comment_.csv\",encoding=\"utf-8\") as f:\n",
    "    reader = csv.reader(f)\n",
    "    scene_comment = list(map(comment_filter,reader))[1:]\n",
    "result = dict(Counter(scene_comment))\n",
    "print(result)"
   ]
  },
  {
   "cell_type": "code",
   "execution_count": 5,
   "metadata": {},
   "outputs": [
    {
     "name": "stdout",
     "output_type": "stream",
     "text": [
      "[['宽窄巷子', 35], ['黄龙溪古镇', 17], ['四川科技馆', 16], ['洛带古镇', 16], ['锦里', 14], ['欢乐谷', 13], ['西岭雪山', 10]]\n"
     ]
    }
   ],
   "source": [
    "n = []\n",
    "for place_id,count in result.items():\n",
    "    n.append([scene[place_id],count])\n",
    "n = sorted(n,key=lambda value: value[1],reverse=True)\n",
    "seven_slices = n[:7]\n",
    "print(seven_slices)"
   ]
  },
  {
   "cell_type": "code",
   "execution_count": 6,
   "metadata": {},
   "outputs": [
    {
     "name": "stdout",
     "output_type": "stream",
     "text": [
      "['宽窄巷子', '黄龙溪古镇', '四川科技馆', '洛带古镇', '锦里', '欢乐谷', '西岭雪山']\n",
      "[35, 17, 16, 16, 14, 13, 10]\n"
     ]
    }
   ],
   "source": [
    "place = [item[0] for item in seven_slices]\n",
    "count = [item[1] for item in seven_slices]\n",
    "print(place)\n",
    "print(count)"
   ]
  },
  {
   "cell_type": "code",
   "execution_count": 9,
   "metadata": {},
   "outputs": [
    {
     "data": {
      "text/html": [
       "<div>\n",
       "<style scoped>\n",
       "    .dataframe tbody tr th:only-of-type {\n",
       "        vertical-align: middle;\n",
       "    }\n",
       "\n",
       "    .dataframe tbody tr th {\n",
       "        vertical-align: top;\n",
       "    }\n",
       "\n",
       "    .dataframe thead th {\n",
       "        text-align: right;\n",
       "    }\n",
       "</style>\n",
       "<table border=\"1\" class=\"dataframe\">\n",
       "  <thead>\n",
       "    <tr style=\"text-align: right;\">\n",
       "      <th></th>\n",
       "      <th>0</th>\n",
       "      <th>1</th>\n",
       "    </tr>\n",
       "  </thead>\n",
       "  <tbody>\n",
       "    <tr>\n",
       "      <td>0</td>\n",
       "      <td>东郊记忆</td>\n",
       "      <td>5</td>\n",
       "    </tr>\n",
       "    <tr>\n",
       "      <td>1</td>\n",
       "      <td>九峰山</td>\n",
       "      <td>3</td>\n",
       "    </tr>\n",
       "    <tr>\n",
       "      <td>2</td>\n",
       "      <td>人民公园</td>\n",
       "      <td>5</td>\n",
       "    </tr>\n",
       "    <tr>\n",
       "      <td>3</td>\n",
       "      <td>四川科技馆</td>\n",
       "      <td>16</td>\n",
       "    </tr>\n",
       "    <tr>\n",
       "      <td>4</td>\n",
       "      <td>安仁古镇</td>\n",
       "      <td>9</td>\n",
       "    </tr>\n",
       "    <tr>\n",
       "      <td>5</td>\n",
       "      <td>宽窄巷子</td>\n",
       "      <td>35</td>\n",
       "    </tr>\n",
       "    <tr>\n",
       "      <td>6</td>\n",
       "      <td>平乐古镇</td>\n",
       "      <td>5</td>\n",
       "    </tr>\n",
       "    <tr>\n",
       "      <td>7</td>\n",
       "      <td>文殊院</td>\n",
       "      <td>7</td>\n",
       "    </tr>\n",
       "    <tr>\n",
       "      <td>8</td>\n",
       "      <td>春熙路</td>\n",
       "      <td>3</td>\n",
       "    </tr>\n",
       "    <tr>\n",
       "      <td>9</td>\n",
       "      <td>杜甫草堂</td>\n",
       "      <td>1</td>\n",
       "    </tr>\n",
       "    <tr>\n",
       "      <td>10</td>\n",
       "      <td>欢乐谷</td>\n",
       "      <td>13</td>\n",
       "    </tr>\n",
       "    <tr>\n",
       "      <td>11</td>\n",
       "      <td>武侯祠</td>\n",
       "      <td>5</td>\n",
       "    </tr>\n",
       "    <tr>\n",
       "      <td>12</td>\n",
       "      <td>洛带古镇</td>\n",
       "      <td>16</td>\n",
       "    </tr>\n",
       "    <tr>\n",
       "      <td>13</td>\n",
       "      <td>西岭雪山</td>\n",
       "      <td>10</td>\n",
       "    </tr>\n",
       "    <tr>\n",
       "      <td>14</td>\n",
       "      <td>赵公山</td>\n",
       "      <td>5</td>\n",
       "    </tr>\n",
       "    <tr>\n",
       "      <td>15</td>\n",
       "      <td>锦里</td>\n",
       "      <td>14</td>\n",
       "    </tr>\n",
       "    <tr>\n",
       "      <td>16</td>\n",
       "      <td>青城山</td>\n",
       "      <td>6</td>\n",
       "    </tr>\n",
       "    <tr>\n",
       "      <td>17</td>\n",
       "      <td>黄龙溪古镇</td>\n",
       "      <td>17</td>\n",
       "    </tr>\n",
       "  </tbody>\n",
       "</table>\n",
       "</div>"
      ],
      "text/plain": [
       "        0   1\n",
       "0    东郊记忆   5\n",
       "1     九峰山   3\n",
       "2    人民公园   5\n",
       "3   四川科技馆  16\n",
       "4    安仁古镇   9\n",
       "5    宽窄巷子  35\n",
       "6    平乐古镇   5\n",
       "7     文殊院   7\n",
       "8     春熙路   3\n",
       "9    杜甫草堂   1\n",
       "10    欢乐谷  13\n",
       "11    武侯祠   5\n",
       "12   洛带古镇  16\n",
       "13   西岭雪山  10\n",
       "14    赵公山   5\n",
       "15     锦里  14\n",
       "16    青城山   6\n",
       "17  黄龙溪古镇  17"
      ]
     },
     "execution_count": 9,
     "metadata": {},
     "output_type": "execute_result"
    }
   ],
   "source": [
    "n = sorted(n)\n",
    "pd.DataFrame(n)"
   ]
  },
  {
   "cell_type": "code",
   "execution_count": null,
   "metadata": {},
   "outputs": [],
   "source": [
    "print([name[0] for name in n])\n",
    "print([name[1] for name in n])"
   ]
  },
  {
   "cell_type": "code",
   "execution_count": null,
   "metadata": {},
   "outputs": [],
   "source": []
  },
  {
   "cell_type": "code",
   "execution_count": null,
   "metadata": {},
   "outputs": [],
   "source": []
  }
 ],
 "metadata": {
  "kernelspec": {
   "display_name": "Python 3",
   "language": "python",
   "name": "python3"
  },
  "language_info": {
   "codemirror_mode": {
    "name": "ipython",
    "version": 3
   },
   "file_extension": ".py",
   "mimetype": "text/x-python",
   "name": "python",
   "nbconvert_exporter": "python",
   "pygments_lexer": "ipython3",
   "version": "3.7.4"
  }
 },
 "nbformat": 4,
 "nbformat_minor": 4
}
