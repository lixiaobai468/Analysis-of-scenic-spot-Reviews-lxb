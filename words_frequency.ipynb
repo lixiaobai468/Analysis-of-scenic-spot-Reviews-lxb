{
 "cells": [
  {
   "cell_type": "markdown",
   "metadata": {},
   "source": [
    "<h1>宽窄巷子词频</h1>"
   ]
  },
  {
   "cell_type": "code",
   "execution_count": 37,
   "metadata": {},
   "outputs": [],
   "source": [
    "from snownlp import SnowNLP\n",
    "import csv\n",
    "import numpy as np\n",
    "import wordcloud\n",
    "import matplotlib.pyplot as plt\n",
    "import re\n",
    "import jieba\n",
    "import jieba.posseg as pseg\n",
    "from collections import Counter\n",
    "import json"
   ]
  },
  {
   "cell_type": "code",
   "execution_count": 5,
   "metadata": {},
   "outputs": [],
   "source": [
    "comments_list = list(item[3:] for item in csv.reader(open(\"scene_comment_.csv\",encoding=\"utf-8\")))\n",
    "with open(\"scene_.csv\",encoding=\"utf-8\") as f:\n",
    "    reader = csv.reader(f)\n",
    "    scener = list(reader)[1:]\n",
    "def filter(item):\n",
    "    return item[:2]\n",
    "scene = list(map(filter,scener))\n",
    "place_dict = dict(scene)"
   ]
  },
  {
   "cell_type": "code",
   "execution_count": 6,
   "metadata": {},
   "outputs": [],
   "source": [
    "def _(item,place_id):\n",
    "    if item[1] == place_id:\n",
    "        return item[0]\n",
    "    else:\n",
    "        return None\n",
    "\n",
    "def filter():\n",
    "    result = dict()\n",
    "    for id in place_dict.keys():\n",
    "        lister = list()\n",
    "        for item in comments_list:\n",
    "            if _(item,id):\n",
    "                lister.append(_(item,id))\n",
    "        result[id] = lister\n",
    "    return result\n",
    "\n",
    "comments_dict = filter()"
   ]
  },
  {
   "cell_type": "code",
   "execution_count": 9,
   "metadata": {},
   "outputs": [],
   "source": [
    "kzcomments = comments_dict['87950']"
   ]
  },
  {
   "cell_type": "code",
   "execution_count": 65,
   "metadata": {},
   "outputs": [
    {
     "name": "stderr",
     "output_type": "stream",
     "text": [
      "Paddle enabled successfully......\n"
     ]
    }
   ],
   "source": [
    "kzstr = \" \".join(kzcomments)\n",
    "kzstr = re.sub('[，。、（）“”‘ ’&～quot](^o^)?？zxcvbnmadfgshjklqerwtyuiop','',str(kzstr))\n",
    "\n",
    "jieba.enable_paddle() #启动paddle模式。 0.40版之后开始支持，早期版本不支持\n",
    "words = pseg.lcut(kzstr,use_paddle=True) #paddle模式\n",
    "words = [list(i) for i in words]"
   ]
  },
  {
   "cell_type": "code",
   "execution_count": 66,
   "metadata": {},
   "outputs": [],
   "source": [
    "remain_list = [\"a\"]\n",
    "new_words = []\n",
    "for item in words:\n",
    "    if item[1] in remain_list and not item[0] in [\"人\",'窄','宽','多']:\n",
    "         new_words.append(item[0])\n"
   ]
  },
  {
   "cell_type": "code",
   "execution_count": 69,
   "metadata": {},
   "outputs": [
    {
     "data": {
      "text/plain": [
       "\"[('很多', 8), ('小', 6), ('老', 5), ('贵', 5), ('不错', 4), ('热闹', 4), ('整个', 3), ('古色古香', 3), ('好', 3), ('一般', 3), ('不同', 3), ('真', 3), ('普通', 3), ('大', 2), ('十足', 2), ('古朴', 2), ('原', 2), ('有特色', 2), ('所有', 2), ('静谧', 2), ('居多', 2), ('高', 2), ('著名', 2), ('旧', 1), ('传统', 1), ('一样', 1), ('真实', 1), ('丰富', 1), ('西式', 1), ('轻便', 1), ('健康', 1), ('，雅致', 1), ('真好', 1), ('显热闹', 1), ('慢慢', 1), ('单纯', 1), ('有意思', 1), ('很舒服', 1), ('不好意思', 1), ('最早', 1), ('嘈杂', 1), ('便利，', 1), ('便宜', 1), ('不錯', 1), ('近 ', 1), ('精美', 1), ('古典', 1), ('浓厚', 1), ('少', 1), ('严重', 1), ('新鲜', 1), ('正宗', 1), ('伪', 1), ('清新', 1), ('很大', 1), ('饱', 1), ('完整', 1), ('特有', 1), ('别样', 1), ('好吃', 1), ('真心贵', 1), ('青磚黛瓦', 1), ('有趣', 1), ('浓', 1), ('，辣', 1), ('辣', 1), ('纯正', 1), ('地道', 1), ('浓郁', 1), ('精致', 1), ('卫生', 1), ('破旧', 1), ('古', 1), ('越多', 1), ('雷同', 1), ('好玩', 1), ('良好', 1), ('慢', 1), ('，白', 1), ('黑', 1), ('黄', 1), ('干净', 1), ('郁闷', 1), ('太多', 1), ('货真价实', 1), ('可怕', 1), ('就好', 1), ('任性', 1), ('舒服', 1), ('一模一样', 1), ('亲切', 1), ('出名', 1), ('满', 1), ('累', 1), ('有文化', 1), ('早', 1), ('精力充沛', 1), ('众多', 1), ('深深', 1), ('安宁。 ', 1), ('还不错', 1), ('大量', 1), ('简单', 1), ('强', 1)]\""
      ]
     },
     "execution_count": 69,
     "metadata": {},
     "output_type": "execute_result"
    }
   ],
   "source": [
    "frequency = sorted([(k,v) for k,v in dict(Counter(new_words)).items()],key=lambda value: value[1],reverse=True)\n",
    "frequency_str = json.dumps(frequency)\n",
    "with open(\"frequency.json\",\"w\",encoding=\"utf-8\") as f:\n",
    "    f.write(frequency_str)\n",
    "    \n",
    "repr(frequency)"
   ]
  },
  {
   "cell_type": "code",
   "execution_count": null,
   "metadata": {},
   "outputs": [],
   "source": []
  }
 ],
 "metadata": {
  "kernelspec": {
   "display_name": "Python 3",
   "language": "python",
   "name": "python3"
  },
  "language_info": {
   "codemirror_mode": {
    "name": "ipython",
    "version": 3
   },
   "file_extension": ".py",
   "mimetype": "text/x-python",
   "name": "python",
   "nbconvert_exporter": "python",
   "pygments_lexer": "ipython3",
   "version": "3.7.4"
  }
 },
 "nbformat": 4,
 "nbformat_minor": 4
}
